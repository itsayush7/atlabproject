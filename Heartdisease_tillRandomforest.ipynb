{
  "cells": [
    {
      "metadata": {
        "_uuid": "e41ea25bec5928203cec544d0413fecd4b4e5555"
      },
      "cell_type": "markdown",
      "source": "## I. Importing the libraries"
    },
    {
      "metadata": {
        "_uuid": "f571f7e57c828d45fe55f6136fe8c2e796f74d4e",
        "trusted": true
      },
      "cell_type": "code",
      "source": "import numpy as np\nimport pandas as pd\nimport matplotlib.pyplot as plt\nimport seaborn as sns\n\n%matplotlib inline\n\nimport os\nprint(os.listdir())\n\nimport warnings\nwarnings.filterwarnings('ignore')",
      "execution_count": 1,
      "outputs": [
        {
          "output_type": "stream",
          "text": "['Heartdisease_tillRandomforest.ipynb', 'README.md', '.ipynb_checkpoints', 'heart.csv']\n",
          "name": "stdout"
        }
      ]
    },
    {
      "metadata": {
        "_uuid": "44e71221837f6fa60edc2c83b7492ddb019cc1cd"
      },
      "cell_type": "markdown",
      "source": "## II. Importing and understanding the dataset "
    },
    {
      "metadata": {
        "_uuid": "2a1a1dae64ae3c934849b2b918bc7d68cd59e3f6",
        "trusted": true
      },
      "cell_type": "code",
      "source": "dataset = pd.read_csv(\"heart.csv\")",
      "execution_count": 2,
      "outputs": []
    },
    {
      "metadata": {
        "_uuid": "481fa1d160a3256ef2470535bfb0574820fbaabd"
      },
      "cell_type": "markdown",
      "source": "#### Verifying it as a 'dataframe' object in pandas"
    },
    {
      "metadata": {
        "_uuid": "86353d54a331dbf55a63874402cf13e2a72c3750",
        "trusted": true
      },
      "cell_type": "code",
      "source": "type(dataset)",
      "execution_count": 3,
      "outputs": [
        {
          "output_type": "execute_result",
          "execution_count": 3,
          "data": {
            "text/plain": "pandas.core.frame.DataFrame"
          },
          "metadata": {}
        }
      ]
    },
    {
      "metadata": {
        "_uuid": "44649a50ce58d2e10a032f7d0e7ecf435e932481"
      },
      "cell_type": "markdown",
      "source": "#### Shape of dataset"
    },
    {
      "metadata": {
        "_uuid": "0a2396061d262bee451e61dd51be84d0bd1ac9d0",
        "trusted": true
      },
      "cell_type": "code",
      "source": "dataset.shape",
      "execution_count": 4,
      "outputs": [
        {
          "output_type": "execute_result",
          "execution_count": 4,
          "data": {
            "text/plain": "(303, 14)"
          },
          "metadata": {}
        }
      ]
    },
    {
      "metadata": {
        "_uuid": "3e1de0c39fc28f086a5e8377cc5fbdbf91d377b3"
      },
      "cell_type": "markdown",
      "source": "#### Printing out a few columns"
    },
    {
      "metadata": {
        "_uuid": "87ebcc578e5959fe9a9c9a538c73122183454459",
        "trusted": true
      },
      "cell_type": "code",
      "source": "dataset.head(5)",
      "execution_count": 5,
      "outputs": [
        {
          "output_type": "execute_result",
          "execution_count": 5,
          "data": {
            "text/html": "<div>\n<table border=\"1\" class=\"dataframe\">\n  <thead>\n    <tr style=\"text-align: right;\">\n      <th></th>\n      <th>age</th>\n      <th>sex</th>\n      <th>cp</th>\n      <th>trestbps</th>\n      <th>chol</th>\n      <th>fbs</th>\n      <th>restecg</th>\n      <th>thalach</th>\n      <th>exang</th>\n      <th>oldpeak</th>\n      <th>slope</th>\n      <th>ca</th>\n      <th>thal</th>\n      <th>target</th>\n    </tr>\n  </thead>\n  <tbody>\n    <tr>\n      <th>0</th>\n      <td>63</td>\n      <td>1</td>\n      <td>3</td>\n      <td>145</td>\n      <td>233</td>\n      <td>1</td>\n      <td>0</td>\n      <td>150</td>\n      <td>0</td>\n      <td>2.3</td>\n      <td>0</td>\n      <td>0</td>\n      <td>1</td>\n      <td>1</td>\n    </tr>\n    <tr>\n      <th>1</th>\n      <td>37</td>\n      <td>1</td>\n      <td>2</td>\n      <td>130</td>\n      <td>250</td>\n      <td>0</td>\n      <td>1</td>\n      <td>187</td>\n      <td>0</td>\n      <td>3.5</td>\n      <td>0</td>\n      <td>0</td>\n      <td>2</td>\n      <td>1</td>\n    </tr>\n    <tr>\n      <th>2</th>\n      <td>41</td>\n      <td>0</td>\n      <td>1</td>\n      <td>130</td>\n      <td>204</td>\n      <td>0</td>\n      <td>0</td>\n      <td>172</td>\n      <td>0</td>\n      <td>1.4</td>\n      <td>2</td>\n      <td>0</td>\n      <td>2</td>\n      <td>1</td>\n    </tr>\n    <tr>\n      <th>3</th>\n      <td>56</td>\n      <td>1</td>\n      <td>1</td>\n      <td>120</td>\n      <td>236</td>\n      <td>0</td>\n      <td>1</td>\n      <td>178</td>\n      <td>0</td>\n      <td>0.8</td>\n      <td>2</td>\n      <td>0</td>\n      <td>2</td>\n      <td>1</td>\n    </tr>\n    <tr>\n      <th>4</th>\n      <td>57</td>\n      <td>0</td>\n      <td>0</td>\n      <td>120</td>\n      <td>354</td>\n      <td>0</td>\n      <td>1</td>\n      <td>163</td>\n      <td>1</td>\n      <td>0.6</td>\n      <td>2</td>\n      <td>0</td>\n      <td>2</td>\n      <td>1</td>\n    </tr>\n  </tbody>\n</table>\n</div>",
            "text/plain": "   age  sex  cp  trestbps  chol  fbs  restecg  thalach  exang  oldpeak  slope  \\\n0   63    1   3       145   233    1        0      150      0      2.3      0   \n1   37    1   2       130   250    0        1      187      0      3.5      0   \n2   41    0   1       130   204    0        0      172      0      1.4      2   \n3   56    1   1       120   236    0        1      178      0      0.8      2   \n4   57    0   0       120   354    0        1      163      1      0.6      2   \n\n   ca  thal  target  \n0   0     1       1  \n1   0     2       1  \n2   0     2       1  \n3   0     2       1  \n4   0     2       1  "
          },
          "metadata": {}
        }
      ]
    },
    {
      "metadata": {
        "_uuid": "5132eb43114bf99d5f857f459d0c9d2faffc9644",
        "trusted": true
      },
      "cell_type": "code",
      "source": "dataset.sample(5)",
      "execution_count": 6,
      "outputs": [
        {
          "output_type": "execute_result",
          "execution_count": 6,
          "data": {
            "text/html": "<div>\n<table border=\"1\" class=\"dataframe\">\n  <thead>\n    <tr style=\"text-align: right;\">\n      <th></th>\n      <th>age</th>\n      <th>sex</th>\n      <th>cp</th>\n      <th>trestbps</th>\n      <th>chol</th>\n      <th>fbs</th>\n      <th>restecg</th>\n      <th>thalach</th>\n      <th>exang</th>\n      <th>oldpeak</th>\n      <th>slope</th>\n      <th>ca</th>\n      <th>thal</th>\n      <th>target</th>\n    </tr>\n  </thead>\n  <tbody>\n    <tr>\n      <th>66</th>\n      <td>51</td>\n      <td>1</td>\n      <td>2</td>\n      <td>100</td>\n      <td>222</td>\n      <td>0</td>\n      <td>1</td>\n      <td>143</td>\n      <td>1</td>\n      <td>1.2</td>\n      <td>1</td>\n      <td>0</td>\n      <td>2</td>\n      <td>1</td>\n    </tr>\n    <tr>\n      <th>137</th>\n      <td>62</td>\n      <td>1</td>\n      <td>1</td>\n      <td>128</td>\n      <td>208</td>\n      <td>1</td>\n      <td>0</td>\n      <td>140</td>\n      <td>0</td>\n      <td>0.0</td>\n      <td>2</td>\n      <td>0</td>\n      <td>2</td>\n      <td>1</td>\n    </tr>\n    <tr>\n      <th>114</th>\n      <td>55</td>\n      <td>1</td>\n      <td>1</td>\n      <td>130</td>\n      <td>262</td>\n      <td>0</td>\n      <td>1</td>\n      <td>155</td>\n      <td>0</td>\n      <td>0.0</td>\n      <td>2</td>\n      <td>0</td>\n      <td>2</td>\n      <td>1</td>\n    </tr>\n    <tr>\n      <th>28</th>\n      <td>65</td>\n      <td>0</td>\n      <td>2</td>\n      <td>140</td>\n      <td>417</td>\n      <td>1</td>\n      <td>0</td>\n      <td>157</td>\n      <td>0</td>\n      <td>0.8</td>\n      <td>2</td>\n      <td>1</td>\n      <td>2</td>\n      <td>1</td>\n    </tr>\n    <tr>\n      <th>145</th>\n      <td>70</td>\n      <td>1</td>\n      <td>1</td>\n      <td>156</td>\n      <td>245</td>\n      <td>0</td>\n      <td>0</td>\n      <td>143</td>\n      <td>0</td>\n      <td>0.0</td>\n      <td>2</td>\n      <td>0</td>\n      <td>2</td>\n      <td>1</td>\n    </tr>\n  </tbody>\n</table>\n</div>",
            "text/plain": "     age  sex  cp  trestbps  chol  fbs  restecg  thalach  exang  oldpeak  \\\n66    51    1   2       100   222    0        1      143      1      1.2   \n137   62    1   1       128   208    1        0      140      0      0.0   \n114   55    1   1       130   262    0        1      155      0      0.0   \n28    65    0   2       140   417    1        0      157      0      0.8   \n145   70    1   1       156   245    0        0      143      0      0.0   \n\n     slope  ca  thal  target  \n66       1   0     2       1  \n137      2   0     2       1  \n114      2   0     2       1  \n28       2   1     2       1  \n145      2   0     2       1  "
          },
          "metadata": {}
        }
      ]
    },
    {
      "metadata": {
        "_uuid": "1113236bec2848d33c5bfe088ff0d03246b8b7ce"
      },
      "cell_type": "markdown",
      "source": "#### Description"
    },
    {
      "metadata": {
        "_uuid": "c31619815cb0dae5586985671fdc21110b39a821",
        "trusted": true
      },
      "cell_type": "code",
      "source": "dataset.describe()",
      "execution_count": 7,
      "outputs": [
        {
          "output_type": "execute_result",
          "execution_count": 7,
          "data": {
            "text/html": "<div>\n<table border=\"1\" class=\"dataframe\">\n  <thead>\n    <tr style=\"text-align: right;\">\n      <th></th>\n      <th>age</th>\n      <th>sex</th>\n      <th>cp</th>\n      <th>trestbps</th>\n      <th>chol</th>\n      <th>fbs</th>\n      <th>restecg</th>\n      <th>thalach</th>\n      <th>exang</th>\n      <th>oldpeak</th>\n      <th>slope</th>\n      <th>ca</th>\n      <th>thal</th>\n      <th>target</th>\n    </tr>\n  </thead>\n  <tbody>\n    <tr>\n      <th>count</th>\n      <td>303.000000</td>\n      <td>303.000000</td>\n      <td>303.000000</td>\n      <td>303.000000</td>\n      <td>303.000000</td>\n      <td>303.000000</td>\n      <td>303.000000</td>\n      <td>303.000000</td>\n      <td>303.000000</td>\n      <td>303.000000</td>\n      <td>303.000000</td>\n      <td>303.000000</td>\n      <td>303.000000</td>\n      <td>303.000000</td>\n    </tr>\n    <tr>\n      <th>mean</th>\n      <td>54.366337</td>\n      <td>0.683168</td>\n      <td>0.966997</td>\n      <td>131.623762</td>\n      <td>246.264026</td>\n      <td>0.148515</td>\n      <td>0.528053</td>\n      <td>149.646865</td>\n      <td>0.326733</td>\n      <td>1.039604</td>\n      <td>1.399340</td>\n      <td>0.729373</td>\n      <td>2.313531</td>\n      <td>0.544554</td>\n    </tr>\n    <tr>\n      <th>std</th>\n      <td>9.082101</td>\n      <td>0.466011</td>\n      <td>1.032052</td>\n      <td>17.538143</td>\n      <td>51.830751</td>\n      <td>0.356198</td>\n      <td>0.525860</td>\n      <td>22.905161</td>\n      <td>0.469794</td>\n      <td>1.161075</td>\n      <td>0.616226</td>\n      <td>1.022606</td>\n      <td>0.612277</td>\n      <td>0.498835</td>\n    </tr>\n    <tr>\n      <th>min</th>\n      <td>29.000000</td>\n      <td>0.000000</td>\n      <td>0.000000</td>\n      <td>94.000000</td>\n      <td>126.000000</td>\n      <td>0.000000</td>\n      <td>0.000000</td>\n      <td>71.000000</td>\n      <td>0.000000</td>\n      <td>0.000000</td>\n      <td>0.000000</td>\n      <td>0.000000</td>\n      <td>0.000000</td>\n      <td>0.000000</td>\n    </tr>\n    <tr>\n      <th>25%</th>\n      <td>47.500000</td>\n      <td>0.000000</td>\n      <td>0.000000</td>\n      <td>120.000000</td>\n      <td>211.000000</td>\n      <td>0.000000</td>\n      <td>0.000000</td>\n      <td>133.500000</td>\n      <td>0.000000</td>\n      <td>0.000000</td>\n      <td>1.000000</td>\n      <td>0.000000</td>\n      <td>2.000000</td>\n      <td>0.000000</td>\n    </tr>\n    <tr>\n      <th>50%</th>\n      <td>55.000000</td>\n      <td>1.000000</td>\n      <td>1.000000</td>\n      <td>130.000000</td>\n      <td>240.000000</td>\n      <td>0.000000</td>\n      <td>1.000000</td>\n      <td>153.000000</td>\n      <td>0.000000</td>\n      <td>0.800000</td>\n      <td>1.000000</td>\n      <td>0.000000</td>\n      <td>2.000000</td>\n      <td>1.000000</td>\n    </tr>\n    <tr>\n      <th>75%</th>\n      <td>61.000000</td>\n      <td>1.000000</td>\n      <td>2.000000</td>\n      <td>140.000000</td>\n      <td>274.500000</td>\n      <td>0.000000</td>\n      <td>1.000000</td>\n      <td>166.000000</td>\n      <td>1.000000</td>\n      <td>1.600000</td>\n      <td>2.000000</td>\n      <td>1.000000</td>\n      <td>3.000000</td>\n      <td>1.000000</td>\n    </tr>\n    <tr>\n      <th>max</th>\n      <td>77.000000</td>\n      <td>1.000000</td>\n      <td>3.000000</td>\n      <td>200.000000</td>\n      <td>564.000000</td>\n      <td>1.000000</td>\n      <td>2.000000</td>\n      <td>202.000000</td>\n      <td>1.000000</td>\n      <td>6.200000</td>\n      <td>2.000000</td>\n      <td>4.000000</td>\n      <td>3.000000</td>\n      <td>1.000000</td>\n    </tr>\n  </tbody>\n</table>\n</div>",
            "text/plain": "              age         sex          cp    trestbps        chol         fbs  \\\ncount  303.000000  303.000000  303.000000  303.000000  303.000000  303.000000   \nmean    54.366337    0.683168    0.966997  131.623762  246.264026    0.148515   \nstd      9.082101    0.466011    1.032052   17.538143   51.830751    0.356198   \nmin     29.000000    0.000000    0.000000   94.000000  126.000000    0.000000   \n25%     47.500000    0.000000    0.000000  120.000000  211.000000    0.000000   \n50%     55.000000    1.000000    1.000000  130.000000  240.000000    0.000000   \n75%     61.000000    1.000000    2.000000  140.000000  274.500000    0.000000   \nmax     77.000000    1.000000    3.000000  200.000000  564.000000    1.000000   \n\n          restecg     thalach       exang     oldpeak       slope          ca  \\\ncount  303.000000  303.000000  303.000000  303.000000  303.000000  303.000000   \nmean     0.528053  149.646865    0.326733    1.039604    1.399340    0.729373   \nstd      0.525860   22.905161    0.469794    1.161075    0.616226    1.022606   \nmin      0.000000   71.000000    0.000000    0.000000    0.000000    0.000000   \n25%      0.000000  133.500000    0.000000    0.000000    1.000000    0.000000   \n50%      1.000000  153.000000    0.000000    0.800000    1.000000    0.000000   \n75%      1.000000  166.000000    1.000000    1.600000    2.000000    1.000000   \nmax      2.000000  202.000000    1.000000    6.200000    2.000000    4.000000   \n\n             thal      target  \ncount  303.000000  303.000000  \nmean     2.313531    0.544554  \nstd      0.612277    0.498835  \nmin      0.000000    0.000000  \n25%      2.000000    0.000000  \n50%      2.000000    1.000000  \n75%      3.000000    1.000000  \nmax      3.000000    1.000000  "
          },
          "metadata": {}
        }
      ]
    },
    {
      "metadata": {
        "_uuid": "718b82039841c137ab7e08a6e79e264643134642",
        "trusted": true
      },
      "cell_type": "code",
      "source": "dataset.info()",
      "execution_count": 8,
      "outputs": [
        {
          "output_type": "stream",
          "text": "<class 'pandas.core.frame.DataFrame'>\nRangeIndex: 303 entries, 0 to 302\nData columns (total 14 columns):\nage         303 non-null int64\nsex         303 non-null int64\ncp          303 non-null int64\ntrestbps    303 non-null int64\nchol        303 non-null int64\nfbs         303 non-null int64\nrestecg     303 non-null int64\nthalach     303 non-null int64\nexang       303 non-null int64\noldpeak     303 non-null float64\nslope       303 non-null int64\nca          303 non-null int64\nthal        303 non-null int64\ntarget      303 non-null int64\ndtypes: float64(1), int64(13)\nmemory usage: 33.2 KB\n",
          "name": "stdout"
        }
      ]
    },
    {
      "metadata": {
        "_uuid": "99d7182ca186d37f63b1fc433fe74ad5e2bc7d2f",
        "trusted": true
      },
      "cell_type": "code",
      "source": "###Luckily, we have no missing values",
      "execution_count": 9,
      "outputs": []
    },
    {
      "metadata": {
        "_uuid": "85b59fefde7c5ecdb50e3b8da0cb719f4e14630f"
      },
      "cell_type": "markdown",
      "source": "#### Let's understand our columns better:"
    },
    {
      "metadata": {
        "_uuid": "5593d1021d54aad598c21f877e57969e6b47f5a8",
        "trusted": true
      },
      "cell_type": "code",
      "source": "info = [\"age\",\"1: male, 0: female\",\"chest pain type, 1: typical angina, 2: atypical angina, 3: non-anginal pain, 4: asymptomatic\",\"resting blood pressure\",\" serum cholestoral in mg/dl\",\"fasting blood sugar > 120 mg/dl\",\"resting electrocardiographic results (values 0,1,2)\",\" maximum heart rate achieved\",\"exercise induced angina\",\"oldpeak = ST depression induced by exercise relative to rest\",\"the slope of the peak exercise ST segment\",\"number of major vessels (0-3) colored by flourosopy\",\"thal: 3 = normal; 6 = fixed defect; 7 = reversable defect\"]\n\n\n\nfor i in range(len(info)):\n    print(dataset.columns[i]+\":\\t\\t\\t\"+info[i])",
      "execution_count": 10,
      "outputs": [
        {
          "output_type": "stream",
          "text": "age:\t\t\tage\nsex:\t\t\t1: male, 0: female\ncp:\t\t\tchest pain type, 1: typical angina, 2: atypical angina, 3: non-anginal pain, 4: asymptomatic\ntrestbps:\t\t\tresting blood pressure\nchol:\t\t\t serum cholestoral in mg/dl\nfbs:\t\t\tfasting blood sugar > 120 mg/dl\nrestecg:\t\t\tresting electrocardiographic results (values 0,1,2)\nthalach:\t\t\t maximum heart rate achieved\nexang:\t\t\texercise induced angina\noldpeak:\t\t\toldpeak = ST depression induced by exercise relative to rest\nslope:\t\t\tthe slope of the peak exercise ST segment\nca:\t\t\tnumber of major vessels (0-3) colored by flourosopy\nthal:\t\t\tthal: 3 = normal; 6 = fixed defect; 7 = reversable defect\n",
          "name": "stdout"
        }
      ]
    },
    {
      "metadata": {
        "_uuid": "6a970312b67b588610a8579ecc2ba4bac0fcee04"
      },
      "cell_type": "markdown",
      "source": "#### Analysing the 'target' variable"
    },
    {
      "metadata": {
        "_uuid": "b883243919bd382193ed15e2a90f9b522bf6f1f7",
        "trusted": true
      },
      "cell_type": "code",
      "source": "dataset[\"target\"].describe()",
      "execution_count": 11,
      "outputs": [
        {
          "output_type": "execute_result",
          "execution_count": 11,
          "data": {
            "text/plain": "count    303.000000\nmean       0.544554\nstd        0.498835\nmin        0.000000\n25%        0.000000\n50%        1.000000\n75%        1.000000\nmax        1.000000\nName: target, dtype: float64"
          },
          "metadata": {}
        }
      ]
    },
    {
      "metadata": {
        "_uuid": "9c107b83e0148914826282bf1f0ab28505d577ab",
        "trusted": true
      },
      "cell_type": "code",
      "source": "dataset[\"target\"].unique()",
      "execution_count": 12,
      "outputs": [
        {
          "output_type": "execute_result",
          "execution_count": 12,
          "data": {
            "text/plain": "array([1, 0])"
          },
          "metadata": {}
        }
      ]
    },
    {
      "metadata": {
        "_uuid": "8c96e97e3f52844e8c4c6ff069f53bfe97c9982d"
      },
      "cell_type": "markdown",
      "source": "#### Clearly, this is a classification problem, with the target variable having values '0' and '1'"
    },
    {
      "metadata": {
        "_uuid": "3ae0dfa26e2daf4cfc8e1c6f3b5008d0dab22ec0"
      },
      "cell_type": "markdown",
      "source": "### Checking correlation between columns"
    },
    {
      "metadata": {
        "_uuid": "3059188d3874be2e0c80e13655609ac6a6fc644f",
        "trusted": true
      },
      "cell_type": "code",
      "source": "print(dataset.corr()[\"target\"].abs().sort_values(ascending=False))",
      "execution_count": 13,
      "outputs": [
        {
          "output_type": "stream",
          "text": "target      1.000000\nexang       0.436757\ncp          0.433798\noldpeak     0.430696\nthalach     0.421741\nca          0.391724\nslope       0.345877\nthal        0.344029\nsex         0.280937\nage         0.225439\ntrestbps    0.144931\nrestecg     0.137230\nchol        0.085239\nfbs         0.028046\nName: target, dtype: float64\n",
          "name": "stdout"
        }
      ]
    },
    {
      "metadata": {
        "_uuid": "6e8cf6f86952d94764c1021207fa5b383b2b84bf",
        "trusted": true
      },
      "cell_type": "code",
      "source": "#This shows that most columns are moderately correlated with target, but 'fbs' is very weakly correlated.",
      "execution_count": 14,
      "outputs": []
    },
    {
      "metadata": {
        "_uuid": "40b6c0a9d03bcab78b87bd41c7df3fe1b930547a"
      },
      "cell_type": "markdown",
      "source": "## Exploratory Data Analysis "
    },
    {
      "metadata": {
        "_uuid": "41da6ba94903ad6ee64b1ba6a1462815ae603536"
      },
      "cell_type": "markdown",
      "source": "### First, analysing the target variable:"
    },
    {
      "metadata": {
        "_uuid": "29aa23ccb8e6438688e16346b3474f4cc03bae13",
        "trusted": true
      },
      "cell_type": "code",
      "source": "y = dataset[\"target\"]\n\nsns.countplot(y)\n\n\ntarget_temp = dataset.target.value_counts()\n\nprint(target_temp)",
      "execution_count": 15,
      "outputs": [
        {
          "output_type": "stream",
          "text": "1    165\n0    138\nName: target, dtype: int64\n",
          "name": "stdout"
        },
        {
          "output_type": "display_data",
          "data": {
            "image/png": "[encoded data removed]",
            "text/plain": "<matplotlib.figure.Figure at 0x7fc948910da0>"
          },
          "metadata": {}
        }
      ]
    },
    {
      "metadata": {
        "_uuid": "5240af8bcd12736900050cea077c713d7d9641df",
        "trusted": true
      },
      "cell_type": "code",
      "source": "print(\"Percentage of patience without heart problems: \"+str(round(target_temp[0]*100/303,2)))\nprint(\"Percentage of patience with heart problems: \"+str(round(target_temp[1]*100/303,2)))\n\n#Alternatively,\n# print(\"Percentage of patience with heart problems: \"+str(y.where(y==1).count()*100/303))\n# print(\"Percentage of patience with heart problems: \"+str(y.where(y==0).count()*100/303))\n\n# #Or,\n# countNoDisease = len(df[df.target == 0])\n# countHaveDisease = len(df[df.target == 1])",
      "execution_count": 16,
      "outputs": [
        {
          "output_type": "stream",
          "text": "Percentage of patience without heart problems: 45.54\nPercentage of patience with heart problems: 54.46\n",
          "name": "stdout"
        }
      ]
    },
    {
      "metadata": {
        "_uuid": "82f9919a1312b53f22980a0071d077e5b0288d90"
      },
      "cell_type": "markdown",
      "source": "### Analysing the 'Sex' feature"
    },
    {
      "metadata": {
        "_uuid": "07a3fb2f44b82360d0393377029851655bcdcd31",
        "trusted": true
      },
      "cell_type": "code",
      "source": "dataset[\"sex\"].unique()",
      "execution_count": 17,
      "outputs": [
        {
          "output_type": "execute_result",
          "execution_count": 17,
          "data": {
            "text/plain": "array([1, 0])"
          },
          "metadata": {}
        }
      ]
    },
    {
      "metadata": {
        "_uuid": "623fe97e454ea061942ec6d948adeb5b7026cc65"
      },
      "cell_type": "markdown",
      "source": "##### Here, the 'sex' feature has 2 unique features"
    },
    {
      "metadata": {
        "_uuid": "5d10e6c167251e6d3b1b82a06159da234eeef721",
        "trusted": true
      },
      "cell_type": "code",
      "source": "sns.barplot(dataset[\"sex\"],y)",
      "execution_count": 18,
      "outputs": [
        {
          "output_type": "execute_result",
          "execution_count": 18,
          "data": {
            "text/plain": "<matplotlib.axes._subplots.AxesSubplot at 0x7fc9488c7cf8>"
          },
          "metadata": {}
        },
        {
          "output_type": "display_data",
          "data": {
            "image/png": "[encoded data removed]",
            "text/plain": "<matplotlib.figure.Figure at 0x7fc94cbe3860>"
          },
          "metadata": {}
        }
      ]
    },
    {
      "metadata": {
        "_uuid": "31142d6b72ae034487a088860fe9c7ff85cf7ca2"
      },
      "cell_type": "markdown",
      "source": "##### We notice, that females are more likely to have heart problems than males"
    },
    {
      "metadata": {
        "_uuid": "f7bbd747b02746eadfa2b525544509c8545ac1af"
      },
      "cell_type": "markdown",
      "source": "### Analysing the 'Chest Pain Type' feature"
    },
    {
      "metadata": {
        "_uuid": "7c795d4a86ee05d58e10a412add90065afbd4a70",
        "trusted": true
      },
      "cell_type": "code",
      "source": "dataset[\"cp\"].unique()",
      "execution_count": 19,
      "outputs": [
        {
          "output_type": "execute_result",
          "execution_count": 19,
          "data": {
            "text/plain": "array([3, 2, 1, 0])"
          },
          "metadata": {}
        }
      ]
    },
    {
      "metadata": {
        "_uuid": "4e83947e6876ffa63837c7e5ce1364a53cbfa499"
      },
      "cell_type": "markdown",
      "source": "##### As expected, the CP feature has values from 0 to 3"
    },
    {
      "metadata": {
        "_uuid": "56d6ed2b3d8d20a61814980cd459502b452d14c1",
        "trusted": true
      },
      "cell_type": "code",
      "source": "sns.barplot(dataset[\"cp\"],y)",
      "execution_count": 20,
      "outputs": [
        {
          "output_type": "execute_result",
          "execution_count": 20,
          "data": {
            "text/plain": "<matplotlib.axes._subplots.AxesSubplot at 0x7fc94887af60>"
          },
          "metadata": {}
        },
        {
          "output_type": "display_data",
          "data": {
            "image/png": "[encoded data removed]",
            "text/plain": "<matplotlib.figure.Figure at 0x7fc94887e0f0>"
          },
          "metadata": {}
        }
      ]
    },
    {
      "metadata": {
        "_uuid": "510c7c3a7386a7e308cc6052025dc806fad61534"
      },
      "cell_type": "markdown",
      "source": "##### We notice, that chest pain of '0', i.e. the ones with typical angina are much less likely to have heart problems"
    },
    {
      "metadata": {
        "_uuid": "bb50bd1cedd31d29683e2411439368aa1390e7ef"
      },
      "cell_type": "markdown",
      "source": "### Analysing the FBS feature"
    },
    {
      "metadata": {
        "_uuid": "55f9ca01da5294b5404f3eb14d202ae90e0ea1bf",
        "trusted": true
      },
      "cell_type": "code",
      "source": "dataset[\"fbs\"].describe()",
      "execution_count": 21,
      "outputs": [
        {
          "output_type": "execute_result",
          "execution_count": 21,
          "data": {
            "text/plain": "count    303.000000\nmean       0.148515\nstd        0.356198\nmin        0.000000\n25%        0.000000\n50%        0.000000\n75%        0.000000\nmax        1.000000\nName: fbs, dtype: float64"
          },
          "metadata": {}
        }
      ]
    },
    {
      "metadata": {
        "_uuid": "43d491d311a8b96a6a9cbecbeff87f577584cd3a",
        "trusted": true
      },
      "cell_type": "code",
      "source": "dataset[\"fbs\"].unique()",
      "execution_count": 22,
      "outputs": [
        {
          "output_type": "execute_result",
          "execution_count": 22,
          "data": {
            "text/plain": "array([1, 0])"
          },
          "metadata": {}
        }
      ]
    },
    {
      "metadata": {
        "_uuid": "90509dcee97df858115131c771e69347a044aafb",
        "trusted": true
      },
      "cell_type": "code",
      "source": "sns.barplot(dataset[\"fbs\"],y)",
      "execution_count": 23,
      "outputs": [
        {
          "output_type": "execute_result",
          "execution_count": 23,
          "data": {
            "text/plain": "<matplotlib.axes._subplots.AxesSubplot at 0x7fc948581ef0>"
          },
          "metadata": {}
        },
        {
          "output_type": "display_data",
          "data": {
            "image/png": "[encoded data removed]",
            "text/plain": "<matplotlib.figure.Figure at 0x7fc94887ec18>"
          },
          "metadata": {}
        }
      ]
    },
    {
      "metadata": {
        "_uuid": "7ec0ef582de18e2ddd06083d4caca7f760ba3700"
      },
      "cell_type": "markdown",
      "source": "##### Nothing extraordinary here"
    },
    {
      "metadata": {
        "_uuid": "5a8d6384c879ed40eddefed03b16607bc02deecf"
      },
      "cell_type": "markdown",
      "source": "### Analysing the restecg feature"
    },
    {
      "metadata": {
        "_uuid": "b12fcc535fe07bc58aa99e97ec9b4e0b01f30a8d",
        "trusted": true
      },
      "cell_type": "code",
      "source": "dataset[\"restecg\"].unique()",
      "execution_count": 24,
      "outputs": [
        {
          "output_type": "execute_result",
          "execution_count": 24,
          "data": {
            "text/plain": "array([0, 1, 2])"
          },
          "metadata": {}
        }
      ]
    },
    {
      "metadata": {
        "_uuid": "ccae9489c2b6e63adb87cef83d367f49ef08a133",
        "trusted": true
      },
      "cell_type": "code",
      "source": "sns.barplot(dataset[\"restecg\"],y)",
      "execution_count": 25,
      "outputs": [
        {
          "output_type": "execute_result",
          "execution_count": 25,
          "data": {
            "text/plain": "<matplotlib.axes._subplots.AxesSubplot at 0x7fc948593e80>"
          },
          "metadata": {}
        },
        {
          "output_type": "display_data",
          "data": {
            "image/png": "[encoded data removed]",
            "text/plain": "<matplotlib.figure.Figure at 0x7fc9485fed30>"
          },
          "metadata": {}
        }
      ]
    },
    {
      "metadata": {
        "_uuid": "84cf1d3ca8d3507765bbb3763834c3795380f1bf"
      },
      "cell_type": "markdown",
      "source": "##### We realize that people with restecg '1' and '0' are much more likely to have a heart disease than with restecg '2'"
    },
    {
      "metadata": {
        "_uuid": "efaf4d85a6837cf43bd5b33d4eaaf193bc6fedc1"
      },
      "cell_type": "markdown",
      "source": "### Analysing the 'exang' feature"
    },
    {
      "metadata": {
        "_uuid": "53dd2985ea50aa6f9c9e5931050b4ef7b7aa609d",
        "trusted": true
      },
      "cell_type": "code",
      "source": "dataset[\"exang\"].unique()",
      "execution_count": 26,
      "outputs": [
        {
          "output_type": "execute_result",
          "execution_count": 26,
          "data": {
            "text/plain": "array([0, 1])"
          },
          "metadata": {}
        }
      ]
    },
    {
      "metadata": {
        "_uuid": "237a60a2a11dab86e50cafcee4ec47df752876a1",
        "trusted": true
      },
      "cell_type": "code",
      "source": "sns.barplot(dataset[\"exang\"],y)",
      "execution_count": 27,
      "outputs": [
        {
          "output_type": "execute_result",
          "execution_count": 27,
          "data": {
            "text/plain": "<matplotlib.axes._subplots.AxesSubplot at 0x7fc9485bdb70>"
          },
          "metadata": {}
        },
        {
          "output_type": "display_data",
          "data": {
            "image/png": "[encoded data removed]",
            "text/plain": "<matplotlib.figure.Figure at 0x7fc948577860>"
          },
          "metadata": {}
        }
      ]
    },
    {
      "metadata": {
        "_uuid": "f442f08734344740ebc225af7a565bcb91962dca"
      },
      "cell_type": "markdown",
      "source": "##### People with exang=1 i.e. Exercise induced angina are much less likely to have heart problems"
    },
    {
      "metadata": {
        "_uuid": "4ce2d649ededc2126324cd07ce430b005697e288"
      },
      "cell_type": "markdown",
      "source": "### Analysing the Slope feature"
    },
    {
      "metadata": {
        "_uuid": "e1e148d25967c36d2bb5fbfb802c70dae93f8a4f",
        "trusted": true
      },
      "cell_type": "code",
      "source": "dataset[\"slope\"].unique()",
      "execution_count": 28,
      "outputs": [
        {
          "output_type": "execute_result",
          "execution_count": 28,
          "data": {
            "text/plain": "array([0, 2, 1])"
          },
          "metadata": {}
        }
      ]
    },
    {
      "metadata": {
        "_uuid": "beaa943c166b3c550fe357e6e937dbda46b707c9",
        "trusted": true
      },
      "cell_type": "code",
      "source": "sns.barplot(dataset[\"slope\"],y)",
      "execution_count": 29,
      "outputs": [
        {
          "output_type": "execute_result",
          "execution_count": 29,
          "data": {
            "text/plain": "<matplotlib.axes._subplots.AxesSubplot at 0x7fc948537898>"
          },
          "metadata": {}
        },
        {
          "output_type": "display_data",
          "data": {
            "image/png": "[encoded data removed]",
            "text/plain": "<matplotlib.figure.Figure at 0x7fc948517a20>"
          },
          "metadata": {}
        }
      ]
    },
    {
      "metadata": {
        "_uuid": "3141a4a203dd433dd7af6c02c1d0b44d048656a0"
      },
      "cell_type": "markdown",
      "source": "##### We observe, that Slope '2' causes heart pain much more than Slope '0' and '1'"
    },
    {
      "metadata": {
        "_uuid": "c0b39456274f1e0f402704714494161ddc55f16a"
      },
      "cell_type": "markdown",
      "source": "### Analysing the 'ca' feature"
    },
    {
      "metadata": {
        "_uuid": "50db41d7e9ebe645bc7c6fcbaf26194176c274db",
        "trusted": true
      },
      "cell_type": "code",
      "source": "#number of major vessels (0-3) colored by flourosopy",
      "execution_count": 30,
      "outputs": []
    },
    {
      "metadata": {
        "_uuid": "a3b7ed6661d24dc399963afbca1e08d79243b431",
        "trusted": true
      },
      "cell_type": "code",
      "source": "dataset[\"ca\"].unique()",
      "execution_count": 31,
      "outputs": [
        {
          "output_type": "execute_result",
          "execution_count": 31,
          "data": {
            "text/plain": "array([0, 2, 1, 3, 4])"
          },
          "metadata": {}
        }
      ]
    },
    {
      "metadata": {
        "_uuid": "f463859906d0287c68152ebe3cadc241e569802c",
        "trusted": true
      },
      "cell_type": "code",
      "source": "sns.countplot(dataset[\"ca\"])",
      "execution_count": 32,
      "outputs": [
        {
          "output_type": "execute_result",
          "execution_count": 32,
          "data": {
            "text/plain": "<matplotlib.axes._subplots.AxesSubplot at 0x7fc9481c57f0>"
          },
          "metadata": {}
        },
        {
          "output_type": "display_data",
          "data": {
            "image/png": "[encoded data removed]",
            "text/plain": "<matplotlib.figure.Figure at 0x7fc9481f2080>"
          },
          "metadata": {}
        }
      ]
    },
    {
      "metadata": {
        "_uuid": "81483318bc63c7434eeb75515483c329abcf15e3",
        "trusted": true
      },
      "cell_type": "code",
      "source": "sns.barplot(dataset[\"ca\"],y)",
      "execution_count": 33,
      "outputs": [
        {
          "output_type": "execute_result",
          "execution_count": 33,
          "data": {
            "text/plain": "<matplotlib.axes._subplots.AxesSubplot at 0x7fc9481eda20>"
          },
          "metadata": {}
        },
        {
          "output_type": "display_data",
          "data": {
            "image/png": "[encoded data removed]",
            "text/plain": "<matplotlib.figure.Figure at 0x7fc94853acf8>"
          },
          "metadata": {}
        }
      ]
    },
    {
      "metadata": {
        "_uuid": "87671e11e19372848af999bb17d061f577eb08b5"
      },
      "cell_type": "markdown",
      "source": "##### ca=4 has astonishingly large number of heart patients"
    },
    {
      "metadata": {
        "_uuid": "b4b057d99c7c3cdbe9e304a75b399f214f352aba",
        "trusted": true
      },
      "cell_type": "code",
      "source": "### Analysing the 'thal' feature",
      "execution_count": 34,
      "outputs": []
    },
    {
      "metadata": {
        "_uuid": "16eaf9a5f7433be2028369818aa54e2bf01e544e",
        "trusted": true
      },
      "cell_type": "code",
      "source": "dataset[\"thal\"].unique()",
      "execution_count": 35,
      "outputs": [
        {
          "output_type": "execute_result",
          "execution_count": 35,
          "data": {
            "text/plain": "array([1, 2, 3, 0])"
          },
          "metadata": {}
        }
      ]
    },
    {
      "metadata": {
        "_uuid": "08947d9c4b05d68b2fe5ae70e33566063c44f8d4",
        "trusted": true
      },
      "cell_type": "code",
      "source": "sns.barplot(dataset[\"thal\"],y)",
      "execution_count": 36,
      "outputs": [
        {
          "output_type": "execute_result",
          "execution_count": 36,
          "data": {
            "text/plain": "<matplotlib.axes._subplots.AxesSubplot at 0x7fc9481760b8>"
          },
          "metadata": {}
        },
        {
          "output_type": "display_data",
          "data": {
            "image/png": "[encoded data removed]",
            "text/plain": "<matplotlib.figure.Figure at 0x7fc94814f080>"
          },
          "metadata": {}
        }
      ]
    },
    {
      "metadata": {
        "_uuid": "dc84bb1643cbed20e8ac5980db59ffd54d5b581c",
        "trusted": true
      },
      "cell_type": "code",
      "source": "sns.distplot(dataset[\"thal\"])",
      "execution_count": 37,
      "outputs": [
        {
          "output_type": "execute_result",
          "execution_count": 37,
          "data": {
            "text/plain": "<matplotlib.axes._subplots.AxesSubplot at 0x7fc948110518>"
          },
          "metadata": {}
        },
        {
          "output_type": "display_data",
          "data": {
            "image/png": "[encoded data removed]",
            "text/plain": "<matplotlib.figure.Figure at 0x7fc94811e278>"
          },
          "metadata": {}
        }
      ]
    },
    {
      "metadata": {
        "_uuid": "d1c95f2180e264978c85703ece34898dab4d522b"
      },
      "cell_type": "markdown",
      "source": "## IV. Train Test split"
    },
    {
      "metadata": {
        "_uuid": "829fcda5b63e1b9f7ecb7762e8ca617166533aca",
        "trusted": true
      },
      "cell_type": "code",
      "source": "from sklearn.model_selection import train_test_split\n\npredictors = dataset.drop(\"target\",axis=1)\ntarget = dataset[\"target\"]\n\nX_train,X_test,Y_train,Y_test = train_test_split(predictors,target,test_size=0.20,random_state=0)",
      "execution_count": 38,
      "outputs": []
    },
    {
      "metadata": {
        "_uuid": "7a74842015c2f193d16caa4fa25e2c4cbf1940f8",
        "trusted": true
      },
      "cell_type": "code",
      "source": "X_train.shape",
      "execution_count": 39,
      "outputs": [
        {
          "output_type": "execute_result",
          "execution_count": 39,
          "data": {
            "text/plain": "(242, 13)"
          },
          "metadata": {}
        }
      ]
    },
    {
      "metadata": {
        "_uuid": "1f777652df4521deb877dac4d5d635d8cd35b279",
        "trusted": true
      },
      "cell_type": "code",
      "source": "X_test.shape",
      "execution_count": 40,
      "outputs": [
        {
          "output_type": "execute_result",
          "execution_count": 40,
          "data": {
            "text/plain": "(61, 13)"
          },
          "metadata": {}
        }
      ]
    },
    {
      "metadata": {
        "_uuid": "028c968a076840657faf7dbc3bfee9fe7b5ca45a",
        "trusted": true
      },
      "cell_type": "code",
      "source": "Y_train.shape",
      "execution_count": 41,
      "outputs": [
        {
          "output_type": "execute_result",
          "execution_count": 41,
          "data": {
            "text/plain": "(242,)"
          },
          "metadata": {}
        }
      ]
    },
    {
      "metadata": {
        "_uuid": "eb6857dfc18da52dae38bec95d20106f39136e61",
        "trusted": true
      },
      "cell_type": "code",
      "source": "Y_test.shape",
      "execution_count": 42,
      "outputs": [
        {
          "output_type": "execute_result",
          "execution_count": 42,
          "data": {
            "text/plain": "(61,)"
          },
          "metadata": {}
        }
      ]
    },
    {
      "metadata": {
        "_uuid": "3b4f28488a92917f26e9876c1880295ec9c077ed"
      },
      "cell_type": "markdown",
      "source": "## V. Model Fitting"
    },
    {
      "metadata": {
        "_uuid": "fe363c1be8335a48a4444660db5fa6bd0a24b71a",
        "trusted": true
      },
      "cell_type": "code",
      "source": "from sklearn.metrics import accuracy_score",
      "execution_count": 43,
      "outputs": []
    },
    {
      "metadata": {
        "_uuid": "4f92fceb9584ae03d3ab370ee11899cb287be690"
      },
      "cell_type": "markdown",
      "source": "### Naive Bayes"
    },
    {
      "metadata": {
        "_uuid": "ffcdab99b4108902547f0179a242a9757078dc68",
        "trusted": true
      },
      "cell_type": "code",
      "source": "from sklearn.naive_bayes import GaussianNB\n\nnb = GaussianNB()\n\nnb.fit(X_train,Y_train)\n\nY_pred_nb = nb.predict(X_test)",
      "execution_count": 44,
      "outputs": []
    },
    {
      "metadata": {
        "_uuid": "9109059d06e4c92494451b3cdab0bbb5a1816072",
        "trusted": true
      },
      "cell_type": "code",
      "source": "Y_pred_nb.shape",
      "execution_count": 45,
      "outputs": [
        {
          "output_type": "execute_result",
          "execution_count": 45,
          "data": {
            "text/plain": "(61,)"
          },
          "metadata": {}
        }
      ]
    },
    {
      "metadata": {
        "_uuid": "e8f8f55db061ada0b669ffa46e9ecc745fcda1ae",
        "trusted": true
      },
      "cell_type": "code",
      "source": "score_nb = round(accuracy_score(Y_pred_nb,Y_test)*100,2)\n\nprint(\"The accuracy score achieved using Naive Bayes is: \"+str(score_nb)+\" %\")",
      "execution_count": 46,
      "outputs": [
        {
          "output_type": "stream",
          "text": "The accuracy score achieved using Naive Bayes is: 85.25 %\n",
          "name": "stdout"
        }
      ]
    },
    {
      "metadata": {
        "_uuid": "2af8b010893284bae0d6cccf66ccfda646e7ca58"
      },
      "cell_type": "markdown",
      "source": "### SVM"
    },
    {
      "metadata": {
        "_uuid": "f1936ece7b76b67e552758a4c80e9421bffe0bc2",
        "trusted": true
      },
      "cell_type": "code",
      "source": "from sklearn import svm\n\nsv = svm.SVC(kernel='linear')\n\nsv.fit(X_train, Y_train)\n\nY_pred_svm = sv.predict(X_test)",
      "execution_count": 47,
      "outputs": []
    },
    {
      "metadata": {
        "_uuid": "36f60f104264d44760705b9c802504f426e15592",
        "trusted": true
      },
      "cell_type": "code",
      "source": "Y_pred_svm.shape",
      "execution_count": 48,
      "outputs": [
        {
          "output_type": "execute_result",
          "execution_count": 48,
          "data": {
            "text/plain": "(61,)"
          },
          "metadata": {}
        }
      ]
    },
    {
      "metadata": {
        "_uuid": "f5a73bca6721f42b3983c328fd475390ba9bc4d3",
        "trusted": true
      },
      "cell_type": "code",
      "source": "score_svm = round(accuracy_score(Y_pred_svm,Y_test)*100,2)\n\nprint(\"The accuracy score achieved using Linear SVM is: \"+str(score_svm)+\" %\")",
      "execution_count": 49,
      "outputs": [
        {
          "output_type": "stream",
          "text": "The accuracy score achieved using Linear SVM is: 81.97 %\n",
          "name": "stdout"
        }
      ]
    },
    {
      "metadata": {
        "_uuid": "4e26d165b57f3f7882570964f1c2dc4a548404de"
      },
      "cell_type": "markdown",
      "source": "### K Nearest Neighbors"
    },
    {
      "metadata": {
        "_uuid": "286352867c53d5fb7dac2fc9bf4b2ac58a466ad0",
        "trusted": true
      },
      "cell_type": "code",
      "source": "from sklearn.neighbors import KNeighborsClassifier\n\nknn = KNeighborsClassifier(n_neighbors=7)\nknn.fit(X_train,Y_train)\nY_pred_knn=knn.predict(X_test)",
      "execution_count": 50,
      "outputs": []
    },
    {
      "metadata": {
        "_uuid": "bccb7c1fcec36dd2eb7eb222f49604029adec2b4",
        "trusted": true
      },
      "cell_type": "code",
      "source": "Y_pred_knn.shape",
      "execution_count": 51,
      "outputs": [
        {
          "output_type": "execute_result",
          "execution_count": 51,
          "data": {
            "text/plain": "(61,)"
          },
          "metadata": {}
        }
      ]
    },
    {
      "metadata": {
        "_uuid": "dda4e8f8f18f96557cdd38cee177de0456db5f45",
        "trusted": true
      },
      "cell_type": "code",
      "source": "score_knn = round(accuracy_score(Y_pred_knn,Y_test)*100,2)\n\nprint(\"The accuracy score achieved using KNN is: \"+str(score_knn)+\" %\")",
      "execution_count": 52,
      "outputs": [
        {
          "output_type": "stream",
          "text": "The accuracy score achieved using KNN is: 67.21 %\n",
          "name": "stdout"
        }
      ]
    },
    {
      "metadata": {
        "_uuid": "abb767170c662e4d9a8b240fd0fd7286ffb0b67f"
      },
      "cell_type": "markdown",
      "source": "### Decision Tree"
    },
    {
      "metadata": {
        "_uuid": "8c141316764dce80103d1879c9b17d853702a746",
        "trusted": true
      },
      "cell_type": "code",
      "source": "from sklearn.tree import DecisionTreeClassifier\n\nmax_accuracy = 0\n\n\nfor x in range(200):\n    dt = DecisionTreeClassifier(random_state=x)\n    dt.fit(X_train,Y_train)\n    Y_pred_dt = dt.predict(X_test)\n    current_accuracy = round(accuracy_score(Y_pred_dt,Y_test)*100,2)\n    if(current_accuracy>max_accuracy):\n        max_accuracy = current_accuracy\n        best_x = x\n        \n#print(max_accuracy)\n#print(best_x)\n\n\ndt = DecisionTreeClassifier(random_state=best_x)\ndt.fit(X_train,Y_train)\nY_pred_dt = dt.predict(X_test)",
      "execution_count": 53,
      "outputs": []
    },
    {
      "metadata": {
        "_uuid": "8de0bd2d57abd24d3a97a5b020a24439eb106f2b",
        "trusted": true
      },
      "cell_type": "code",
      "source": "print(Y_pred_dt.shape)",
      "execution_count": 54,
      "outputs": [
        {
          "output_type": "stream",
          "text": "(61,)\n",
          "name": "stdout"
        }
      ]
    },
    {
      "metadata": {
        "_uuid": "52ab93482d3b53824e9bc2b3e4114c57253e0c5b",
        "trusted": true
      },
      "cell_type": "code",
      "source": "score_dt = round(accuracy_score(Y_pred_dt,Y_test)*100,2)\n\nprint(\"The accuracy score achieved using Decision Tree is: \"+str(score_dt)+\" %\")",
      "execution_count": 55,
      "outputs": [
        {
          "output_type": "stream",
          "text": "The accuracy score achieved using Decision Tree is: 81.97 %\n",
          "name": "stdout"
        }
      ]
    },
    {
      "metadata": {
        "trusted": true
      },
      "cell_type": "code",
      "source": "### Logistic Regression",
      "execution_count": 56,
      "outputs": []
    },
    {
      "metadata": {
        "trusted": true
      },
      "cell_type": "code",
      "source": "from sklearn.linear_model import LogisticRegression\n\nlr = LogisticRegression()\n\nlr.fit(X_train,Y_train)\n\nY_pred_lr = lr.predict(X_test)",
      "execution_count": 57,
      "outputs": []
    },
    {
      "metadata": {
        "trusted": true
      },
      "cell_type": "code",
      "source": "Y_pred_lr.shape",
      "execution_count": 58,
      "outputs": [
        {
          "output_type": "execute_result",
          "execution_count": 58,
          "data": {
            "text/plain": "(61,)"
          },
          "metadata": {}
        }
      ]
    },
    {
      "metadata": {
        "trusted": true
      },
      "cell_type": "code",
      "source": "score_lr = round(accuracy_score(Y_pred_lr,Y_test)*100,2)\n\nprint(\"The accuracy score achieved using Logistic Regression is: \"+str(score_lr)+\" %\")",
      "execution_count": 59,
      "outputs": [
        {
          "output_type": "stream",
          "text": "The accuracy score achieved using Logistic Regression is: 85.25 %\n",
          "name": "stdout"
        }
      ]
    },
    {
      "metadata": {
        "trusted": true
      },
      "cell_type": "code",
      "source": "### Random Forest",
      "execution_count": 60,
      "outputs": []
    },
    {
      "metadata": {
        "trusted": true
      },
      "cell_type": "code",
      "source": "from sklearn.ensemble import RandomForestClassifier\n\nmax_accuracy = 0\n\n\nfor x in range(2000):\n    rf = RandomForestClassifier(random_state=x)\n    rf.fit(X_train,Y_train)\n    Y_pred_rf = rf.predict(X_test)\n    current_accuracy = round(accuracy_score(Y_pred_rf,Y_test)*100,2)\n    if(current_accuracy>max_accuracy):\n        max_accuracy = current_accuracy\n        best_x = x\n        \n#print(max_accuracy)\n#print(best_x)\n\nrf = RandomForestClassifier(random_state=best_x)\nrf.fit(X_train,Y_train)\nY_pred_rf = rf.predict(X_test)",
      "execution_count": 61,
      "outputs": [
        {
          "output_type": "stream",
          "text": "/home/nbuser/anaconda3_420/lib/python3.5/site-packages/sklearn/ensemble/weight_boosting.py:29: DeprecationWarning: numpy.core.umath_tests is an internal NumPy module and should not be imported. It will be removed in a future NumPy release.\n  from numpy.core.umath_tests import inner1d\n",
          "name": "stderr"
        }
      ]
    },
    {
      "metadata": {
        "trusted": true
      },
      "cell_type": "code",
      "source": "Y_pred_rf.shape",
      "execution_count": 62,
      "outputs": [
        {
          "output_type": "execute_result",
          "execution_count": 62,
          "data": {
            "text/plain": "(61,)"
          },
          "metadata": {}
        }
      ]
    },
    {
      "metadata": {
        "trusted": true
      },
      "cell_type": "code",
      "source": "score_rf = round(accuracy_score(Y_pred_rf,Y_test)*100,2)\n\nprint(\"The accuracy score achieved using Random forest is: \"+str(score_rf)+\" %\")",
      "execution_count": 63,
      "outputs": [
        {
          "output_type": "stream",
          "text": "The accuracy score achieved using Random forest is: 95.08 %\n",
          "name": "stdout"
        }
      ]
    },
    {
      "metadata": {
        "trusted": true
      },
      "cell_type": "code",
      "source": "",
      "execution_count": null,
      "outputs": []
    }
  ],
  "metadata": {
    "kernelspec": {
      "name": "python3",
      "display_name": "Python 3",
      "language": "python"
    },
    "language_info": {
      "mimetype": "text/x-python",
      "nbconvert_exporter": "python",
      "name": "python",
      "file_extension": ".py",
      "version": "3.5.4",
      "pygments_lexer": "ipython3",
      "codemirror_mode": {
        "version": 3,
        "name": "ipython"
      }
    }
  },
  "nbformat": 4,
  "nbformat_minor": 1
}